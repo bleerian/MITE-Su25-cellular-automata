{
 "cells": [
  {
   "cell_type": "code",
   "execution_count": null,
   "metadata": {
    "colab": {
     "base_uri": "https://localhost:8080/"
    },
    "id": "OpIdjYFZ9KNk",
    "outputId": "50988a56-9df1-4152-91df-2c3b4c5d908c"
   },
   "outputs": [],
   "source": [
    "# Clone the repo into Colab (only if not already done)\n",
    "import os\n",
    "%cd /content\n",
    "\n",
    "if not os.path.exists(\"MITE-Su25-cellular-automata\"):\n",
    "    !git clone https://github.com/bleerian/MITE-Su25-cellular-automata.git\n",
    "    %cd MITE-Su25-cellular-automata\n",
    "else:\n",
    "    %cd MITE-Su25-cellular-automata\n",
    "\n",
    "# Add the package path to Python’s import path\n",
    "import sys\n",
    "sys.path.append('./game-of-life')\n"
   ]
  },
  {
   "cell_type": "markdown",
   "metadata": {
    "id": "JZ2bvilCAKKw"
   },
   "source": [
    "# **Section 1: Animating Conway's Game of Life using Python**\n",
    "\n",
    "## This code is a complete code of Conway's Game of Life using Python with preloaded patterns from a file called Pattern_grid.py (if you are interested in understanding the inner workings), otherwise, you can run this and input a given pattern.\n",
    "\n",
    "## Note, this takes a little bit to load, but wait for the code to finish running, then play the animation"
   ]
  },
  {
   "cell_type": "code",
   "execution_count": null,
   "metadata": {
    "colab": {
     "base_uri": "https://localhost:8080/",
     "height": 1000
    },
    "id": "YEppFbSm8Twh",
    "outputId": "82be7011-d2ea-4b22-c466-76ae00f762a0"
   },
   "outputs": [],
   "source": [
    "import argparse\n",
    "import numpy as np\n",
    "import matplotlib.pyplot as plt\n",
    "from IPython.display import display, HTML\n",
    "import time\n",
    "from Pattern_grid import (\n",
    "    addGlider, addGosperGliderGun, addExploder,\n",
    "    addQuadExploder, addNegativeSpaceship,\n",
    "    randomGrid, update\n",
    ")\n",
    "\n",
    "from matplotlib import animation  # for smooth animation\n",
    "\n",
    "def main():\n",
    "    # Detect if run in notebook\n",
    "    if 'ipykernel' in sys.modules:\n",
    "        patterns_input = input(\"Choose one or more patterns (comma-separated: glider, gosper, exploder, quadexploder, negativespaceship, random): \").lower()\n",
    "        patterns = [p.strip() for p in patterns_input.split(\",\") if p.strip() in ['glider', 'gosper', 'exploder', 'quadexploder', 'negativespaceship', 'random'] ]\n",
    "\n",
    "        if not patterns:\n",
    "            print(\"No valid patterns selected. Defaulting to random.\")\n",
    "            patterns = ['random']\n",
    "\n",
    "        class Args:\n",
    "            def __init__(self, N=100, interval=50, patterns='random'):\n",
    "                self.N = N\n",
    "                self.interval = interval\n",
    "                self.patterns = patterns\n",
    "        args = Args(patterns=patterns)\n",
    "    else:\n",
    "        parser = argparse.ArgumentParser(description=\"Runs Conway's Game of Life simulation.\")\n",
    "        parser.add_argument('--grid-size', dest='N', type=int, default=100,\n",
    "                            help=\"Size of the NxN grid (default: 100).\")\n",
    "        parser.add_argument('--interval', type=int, default=50,\n",
    "                            help=\"Animation update interval in milliseconds (default: 50).\")\n",
    "        parser.add_argument('--pattern', nargs='+', choices=['glider', 'gosper', 'exploder', 'quadexploder', 'negativespaceship', 'random'], default=['random'],\n",
    "                            help=\"Pattern(s) to initialize: glider, gosper, exploder, quadexploder, negativespaceship, random.\")\n",
    "        args = parser.parse_args()\n",
    "\n",
    "    N = args.N\n",
    "    updateInterval = args.interval\n",
    "    grid = np.zeros((N, N))\n",
    "\n",
    "    for pattern in args.patterns:\n",
    "        if pattern == 'glider':\n",
    "            addGlider(1, 1, grid)\n",
    "        elif pattern == 'gosper':\n",
    "            if N < 50:\n",
    "                print(\"Grid too small for Gosper Glider Gun, increasing size to 50.\")\n",
    "                N = 50\n",
    "                grid = np.zeros((N, N))\n",
    "            addGosperGliderGun(10, 10, grid)\n",
    "        elif pattern == 'exploder':\n",
    "            addExploder(N//2 - 2, N//2 - 2, grid)\n",
    "        elif pattern == 'quadexploder':\n",
    "            addQuadExploder(N//2, N//2, grid)\n",
    "        elif pattern == 'negativespaceship':\n",
    "            addNegativeSpaceship(N//2 - 5, N//2 - 10, grid)\n",
    "        elif pattern == 'random':\n",
    "            grid += randomGrid(N)\n",
    "\n",
    "    frames = 200\n",
    "\n",
    "    fig, ax = plt.subplots(figsize=(10, 10))\n",
    "    img = ax.imshow(grid, interpolation='nearest', cmap='gray', vmin=0, vmax=255)\n",
    "    ax.set_title(\"Conway's Game of Life\")\n",
    "\n",
    "    def animate(frame):\n",
    "        update(frame, img, grid, N)\n",
    "        return [img]\n",
    "\n",
    "    anim = animation.FuncAnimation(fig, animate, frames=frames, interval=updateInterval, blit=True)\n",
    "    display(HTML(anim.to_jshtml()))\n",
    "    plt.close(fig)\n",
    "\n",
    "\n",
    "if __name__ == '__main__':\n",
    "    main()\n"
   ]
  },
  {
   "cell_type": "markdown",
   "metadata": {
    "id": "UdaiDGQLA8pI"
   },
   "source": [
    "# **Section 2: Understanding the Code**"
   ]
  },
  {
   "cell_type": "markdown",
   "metadata": {
    "id": "wK5Abd2FGOLj"
   },
   "source": [
    "In our code we have hte pattern of 'alive' cells represented by a list of *tuples*, in which their index coordinate is contained in *alive cells* and the name of the pattern is contained in name\n",
    "\n",
    "```\n",
    "@dataclass\n",
    "class Pattern:\n",
    "    name: str\n",
    "    alive_cells: set[tuple[int, int]]\n",
    "```"
   ]
  },
  {
   "cell_type": "markdown",
   "metadata": {
    "id": "fE3vwg-zHL08"
   },
   "source": [
    "The next step is to implement how the grid will evlove with each iteration. This is done in the provided *grid.py* as the method *LifeGrid.evolve(pattern)*, which takes as input an instance of the *class Pattern* shown above.\n",
    "\n",
    "Here we show what that code looks like:\n",
    "\n",
    "\n",
    "```\n",
    "import collections\n",
    "\n",
    "ALIVE = \"♥\"\n",
    "DEAD = \"○\"\n",
    "\n",
    "class LifeGrid:\n",
    "    def __init__(self, pattern):\n",
    "        self.pattern = pattern  # instance of class Pattern\n",
    "\n",
    "    def evolve(self):\n",
    "        neighbors = (\n",
    "            (-1, -1), (-1, 0), (-1, 1),\n",
    "            (0, -1),           (0, 1),\n",
    "            (1, -1),  (1, 0),  (1, 1),\n",
    "        )\n",
    "        num_neighbors = collections.defaultdict(int)\n",
    "        for row, col in self.pattern.alive_cells:\n",
    "            for drow, dcol in neighbors:\n",
    "                num_neighbors[(row + drow, col + dcol)] += 1\n",
    "\n",
    "        stay_alive = {\n",
    "            cell for cell, num in num_neighbors.items() if num in {2, 3}\n",
    "        } & self.pattern.alive_cells\n",
    "        come_alive = {\n",
    "            cell for cell, num in num_neighbors.items() if num == 3\n",
    "        } - self.pattern.alive_cells\n",
    "\n",
    "        self.pattern.alive_cells = stay_alive | come_alive\n",
    "\n",
    "    def __str__(self):\n",
    "        return (\n",
    "            f\"{self.pattern.name}:\\n\"\n",
    "            f\"Alive cells -> {sorted(self.pattern.alive_cells)}\"\n",
    "        )\n",
    "\n",
    "    def as_string(self, bbox):\n",
    "        start_row, start_col, end_row, end_col = bbox\n",
    "        display = [self.pattern.name.center(2 * (end_col - start_col))]\n",
    "        for row in range(start_row, end_row):\n",
    "            display_row = [\n",
    "                f\" {ALIVE}\" if (row, col) in self.pattern.alive_cells else f\" {DEAD}\"\n",
    "                for col in range(start_col, end_col)\n",
    "            ]\n",
    "            display.append(\"\".join(display_row))\n",
    "        return \"\\n\".join(display)\n",
    "```\n",
    "\n"
   ]
  },
  {
   "cell_type": "markdown",
   "metadata": {
    "id": "Hy7caoX4HuiE"
   },
   "source": [
    "## Now to get a feel for how these two (Pattern and Grid) work together, we will run through some examples :\n"
   ]
  },
  {
   "cell_type": "code",
   "execution_count": null,
   "metadata": {
    "id": "bhTErmJ1_ahb"
   },
   "outputs": [],
   "source": [
    "# Here we import the patterns.py and grid.py modules into this notebook as libraries\n",
    "import patterns\n",
    "import grid as grid_module\n"
   ]
  },
  {
   "cell_type": "markdown",
   "metadata": {
    "id": "2DgeYyddIdud"
   },
   "source": [
    "# In the next step, we can load a pattern called \"Blinker\" and we can \"see\" how the game evolves with this starting pattern"
   ]
  },
  {
   "cell_type": "code",
   "execution_count": null,
   "metadata": {
    "colab": {
     "base_uri": "https://localhost:8080/"
    },
    "id": "qtHIhLSPC5fb",
    "outputId": "4deccddc-286e-4ea4-ad49-23b274f2c815"
   },
   "outputs": [],
   "source": [
    "# Load the pattern\n",
    "blinker = patterns.get_pattern(\"Blinker\")\n",
    "\n",
    "# Create a grid with it\n",
    "grid = grid_module.LifeGrid(blinker)\n",
    "\n",
    "# Print the initial state\n",
    "print(\"Generation 1 -\", grid)\n",
    "\n",
    "# Evolve the grid\n",
    "grid.evolve()\n",
    "\n",
    "# Print the updated pattern\n",
    "print(\"Generation 2 -\", grid)  # same object; now updated\n",
    "\n",
    "grid.evolve()\n",
    "\n",
    "print(\"Generation 3 -\", grid)"
   ]
  },
  {
   "cell_type": "markdown",
   "metadata": {
    "id": "_Kn0kfOpIvT9"
   },
   "source": [
    "# Previously we visualized each generation as an array of numbers based on their coordinate position, but what if we want to visualize the actual positions of each \"alive\" and \"dead\" cell?"
   ]
  },
  {
   "cell_type": "code",
   "execution_count": null,
   "metadata": {
    "colab": {
     "base_uri": "https://localhost:8080/"
    },
    "id": "3HDmV4OgJBgC",
    "outputId": "25c608ff-cc3b-40fd-cf67-c85abfd4e2cd"
   },
   "outputs": [],
   "source": [
    "# Instantiate the grid with the pattern\n",
    "life = grid_module.LifeGrid(blinker)\n",
    "\n",
    "# Show initial state\n",
    "print(life)\n",
    "\n",
    "life.evolve() #This evolves each step to the next generation)\n",
    "print(life.as_string((0, 0, 5, 5))) #Sets the bounding box: (start_row, start_col, end_row, end_col)\n",
    "life.evolve()\n",
    "print(life.as_string((0, 0, 5, 5)))"
   ]
  },
  {
   "cell_type": "markdown",
   "metadata": {
    "id": "KWnNihHbJR2s"
   },
   "source": [
    "#"
   ]
  },
  {
   "cell_type": "markdown",
   "metadata": {
    "id": "PsioCdwmKqkq"
   },
   "source": [
    "Then to clean up the code, we can use something known as a \"for loop\"\n",
    "\n",
    "\n",
    "```\n",
    "for i in range(3):                        # sets the code to loop this snippet 3 times\n",
    "    life.evolve()                         # on each loop, the code will run an evolve function\n",
    "    print(f\"\\nGeneration {i+1}\")          # Outputs which generation the grid is in\n",
    "    print(life.as_string((0, 0, 5, 5)))   # Prints the grid to visualize\n",
    "```\n",
    "\n"
   ]
  },
  {
   "cell_type": "code",
   "execution_count": null,
   "metadata": {
    "colab": {
     "base_uri": "https://localhost:8080/"
    },
    "id": "_NeKKl_xC8H2",
    "outputId": "af01cd76-347b-4abf-bb08-eb7273621f25"
   },
   "outputs": [],
   "source": [
    "# Instantiate the grid with the pattern\n",
    "life = grid_module.LifeGrid(blinker)\n",
    "\n",
    "# Show initial state\n",
    "print(life)\n",
    "\n",
    "# Evolve and print each state\n",
    "for i in range(3):\n",
    "    life.evolve()\n",
    "    print(f\"\\nGeneration {i+1}\")\n",
    "    print(life.as_string((0, 0, 5, 5)))\n",
    "\n",
    "# View as string grid\n",
    "#print(life.as_string((0, 0, 7, 7)))\n",
    "\n",
    "# Step through a few more iterations\n",
    "for i in range(3):\n",
    "    life.evolve()\n",
    "    print(f\"\\nGeneration {i+4}\")\n",
    "    print(life.as_string((0, 0, 5, 5)))\n"
   ]
  },
  {
   "cell_type": "markdown",
   "metadata": {
    "id": "cohfnOqvLLmb"
   },
   "source": [
    "## Here we see how the starting \"blinker\" pattern updates through 6 generations.\n",
    "---------------------------------------------------------------------\n",
    "## Now, if we want to visualize our string-based grid representation in a notebook (like Google Colab or Jupyter), we can use something like IPython.display to clear the cell output and redraw the grid each generation.\n",
    "\n",
    "## The code below uses a function called notebook_view to simulate Conway’s Game of Life in a Colab-friendly way:"
   ]
  },
  {
   "cell_type": "code",
   "execution_count": null,
   "metadata": {
    "colab": {
     "base_uri": "https://localhost:8080/"
    },
    "id": "ChABqzzRDHw5",
    "outputId": "6129d68a-8226-4dac-a563-de5e2dd831a7"
   },
   "outputs": [],
   "source": [
    "import time\n",
    "import IPython.display\n",
    "\n",
    "def notebook_view(pattern, generations=10, bbox=(0, 0, 30, 30), delay=0.3):\n",
    "    life = grid_module.LifeGrid(pattern)\n",
    "    for i in range(generations):\n",
    "        IPython.display.clear_output(wait=True)\n",
    "        print(f\"Generation {i+1}\")\n",
    "        print(life.as_string(bbox))\n",
    "        time.sleep(delay)\n",
    "        life.evolve()\n",
    "\n",
    "# Try it with Glider Gun\n",
    "glider_gun = patterns.get_pattern(\"Glider Gun\")\n",
    "notebook_view(glider_gun, generations=50, bbox=(0, 0, 30, 30), delay=0.1)\n"
   ]
  },
  {
   "cell_type": "markdown",
   "metadata": {
    "id": "awFEErXPS_gy"
   },
   "source": [
    "The available patterns you can also try with the above code snippet are:\n",
    "\n",
    "*   Blinker\n",
    "*   Toad\n",
    "*   Beacon\n",
    "*   Pulsar\n",
    "*   Penta Decathlon\n",
    "*   Glider\n",
    "*   Glider Gun\n",
    "*   Bunnies\n"
   ]
  },
  {
   "cell_type": "markdown",
   "metadata": {
    "id": "c7yiKUMXL-QS"
   },
   "source": [
    "# Section 3: Modifying the Code\n",
    "\n",
    "## Here you can experiment with modifying the logic that defines which cells count as neighbors to change the rule of which cells survive or die\n",
    "\n",
    "## Here you can define the neighborhood in any way you'd like. The original Conway's game of life uses a Moore's Neighborhood that is represented in python like:\n",
    "\n",
    "\n",
    "```\n",
    "moore_neighbors = [\n",
    "    (-1, -1), (-1, 0), (-1, 1),\n",
    "    ( 0, -1),          ( 0, 1),\n",
    "    ( 1, -1), ( 1, 0), ( 1, 1)\n",
    "]\n",
    "```\n",
    "\n",
    "## Here you can see that neighbors in all directions, including the diagonals are considered neighbors\n",
    "\n",
    "## Some of the other neighborhoods as seen in the worksheet like Von Neumann would be represented like:\n",
    "\n",
    "\n",
    "```\n",
    "von_neumann_neighbors = [\n",
    "  (-1,0), # top\n",
    "  (0,-1), (0,1), #left/right\n",
    "  (1,0),  # bottom\n",
    "]\n",
    "```\n",
    "\n",
    "## What about the other neighborhoods? Or even a custom one? How do they change how some of the patterns evolve?\n",
    "\n",
    "The available patterns include:\n",
    "\n",
    "\n",
    "*   Blinker\n",
    "*   Toad\n",
    "*   Beacon\n",
    "*   Pulsar\n",
    "*   Penta Decathlon\n",
    "*   Glider\n",
    "*   Glider Gun\n",
    "*   Bunnies\n",
    "\n"
   ]
  },
  {
   "cell_type": "code",
   "execution_count": null,
   "metadata": {
    "colab": {
     "base_uri": "https://localhost:8080/"
    },
    "id": "z87cuTF4L9jF",
    "outputId": "0cf7392f-f4d4-4fed-a7a0-ef23fdede958"
   },
   "outputs": [],
   "source": [
    "import time\n",
    "import IPython.display\n",
    "import types\n",
    "import collections\n",
    "\n",
    "# Step 1: Define the neighborhood\n",
    "custom_neighbors = [\n",
    "    (-1, 0),  # top\n",
    "    ( 0, -1), (0, 1),  # left/right\n",
    "    ( 1, 0),  # bottom\n",
    "]\n",
    "\n",
    "# Step 2: Define the custom evolve function with injected neighbor set\n",
    "def custom_evolve(self, custom_neighbors):\n",
    "    num_neighbors = collections.defaultdict(int)\n",
    "    for row, col in self.pattern.alive_cells:\n",
    "        for drow, dcol in custom_neighbors:\n",
    "            num_neighbors[(row + drow, col + dcol)] += 1\n",
    "\n",
    "    stay_alive = {\n",
    "        cell for cell, num in num_neighbors.items() if num in {2, 3}\n",
    "    } & self.pattern.alive_cells\n",
    "    come_alive = {\n",
    "        cell for cell, num in num_neighbors.items() if num == 3\n",
    "    } - self.pattern.alive_cells\n",
    "\n",
    "    self.pattern.alive_cells = stay_alive | come_alive\n",
    "\n",
    "# Step 3: Create the grid with a pattern and inject new custom evolve\n",
    "gun = patterns.get_pattern(\"Glider Gun\")\n",
    "grid = grid_module.LifeGrid(gun)\n",
    "grid.evolve = types.MethodType(lambda self: custom_evolve(self, custom_neighbors), grid)\n",
    "\n",
    "# Step 4: Modified notebook_view to accept a preconstructed grid\n",
    "def notebook_view_from_grid(grid, generations=50, bbox=(0, 0, 20, 20), delay=0.2):\n",
    "    for i in range(generations):\n",
    "        IPython.display.clear_output(wait=True)\n",
    "        print(f\"Generation {i+1}\")\n",
    "        print(grid.as_string(bbox))\n",
    "        time.sleep(delay)\n",
    "        grid.evolve()\n",
    "\n",
    "# Step 5: Run the simulation\n",
    "notebook_view_from_grid(grid, generations=50, bbox=(0, 0, 20, 20), delay=0.1)\n"
   ]
  },
  {
   "cell_type": "markdown",
   "metadata": {
    "id": "V5QznAN7NYRJ"
   },
   "source": [
    "# Bonus: Implement your own pattern"
   ]
  },
  {
   "cell_type": "code",
   "execution_count": null,
   "metadata": {
    "colab": {
     "base_uri": "https://localhost:8080/"
    },
    "id": "SZkt_mH6NbCP",
    "outputId": "dcb5ee67-4f81-4dac-db47-c4618566a532"
   },
   "outputs": [],
   "source": [
    "from patterns import Pattern\n",
    "\n",
    "# 📝 Change this set to make your own pattern!\n",
    "my_cells = {\n",
    "    (2, 3), (2, 4),\n",
    "    (3, 3), (3, 4)\n",
    "}\n",
    "\n",
    "my_pattern = Pattern(\"My Pattern\", my_cells)\n",
    "\n",
    "# Visualize it\n",
    "grid = grid_module.LifeGrid(my_pattern)\n",
    "notebook_view(my_pattern, generations=20, bbox=(0, 0, 10, 10), delay=0.2)\n"
   ]
  },
  {
   "cell_type": "code",
   "execution_count": null,
   "metadata": {},
   "outputs": [],
   "source": [
    "my_pattern_from_toml = patterns.get_pattern(\"Wow\")\n",
    "notebook_view(my_pattern_from_toml, generations=1, bbox=(0, 0, 10, 10), delay=0.1)"
   ]
  },
  {
   "cell_type": "markdown",
   "metadata": {},
   "source": [
    "# Part 2: Spinodal Decomposition\n",
    "\n",
    "### Now, let's take a look at an example application of cellular automata in a materials science application.\n",
    "\n",
    "### Alloys are mixtures of components. For example, bronze is an alloy of copper and tin; the addition of tin increases the hardness and strength. Another well-known example is steel, which is an alloy of iron with a few percent of carbon. Other metals are also added to enhance materials properties suh as corrosion resistance (e.g, stainless steel). It is also possible to make alloys of non-metallic elements. An example is InGaN, an alloy of indium nitride (InN) and gallium nitride (GaN), used in some light-emitting diode (LED) applications.\n",
    "\n",
    "### In materials science, alloys are often referened to as \"solid solutions\" because the components of the system are evenly mixed together- or at least that is what we hope for!\n",
    "\n",
    "### It turns out that many solid solutions do not always stay homogeneously mixed at all temperatures or pressure. Instead, they often segregate into different phaes. In some cases below a critical temperature, the phases spontaneously separate into domains with complex microstructure through a process known as *spinodal decomposition*.\n",
    "\n",
    "## So the question is: **How does this materials process relate with Conway's Game of Life?**"
   ]
  },
  {
   "cell_type": "markdown",
   "metadata": {},
   "source": [
    "### Game of Life vs. Spinodal Decomposition\n",
    "\n",
    "| **Feature**                    | **Game of Life**                                             | **Spinodal Decomposition**                                        |\n",
    "|-------------------------------|--------------------------------------------------------------|-------------------------------------------------------------------|\n",
    "| **Cell State**                | Binary: alive or dead                                        | Continuous: real-valued `η` representing concentration difference |\n",
    "| **Grid Type**                 | 2D square grid                                               | 2D square grid                                                    |\n",
    "| **Neighborhood**              | Moore (8 neighbors treated equally)                          | Moore, but distinguishes nearest (UDLR) and next-nearest (diagonal) |\n",
    "| **Update Rules**              | Simple rule-based logic (2–3 neighbors survive)              | Physics-based PDE-inspired update using energy and diffusion      |\n"
   ]
  },
  {
   "cell_type": "markdown",
   "metadata": {},
   "source": [
    "## **Exercise**: Let's get a feel for what happens in our simulation of the spinodal decomposition process"
   ]
  },
  {
   "cell_type": "code",
   "execution_count": null,
   "metadata": {},
   "outputs": [],
   "source": [
    "sys.path.append('./spinodal-decomposition')\n",
    "from spinodal_decomp import SpinodalNonConserved, SpinodalConserved"
   ]
  },
  {
   "cell_type": "code",
   "execution_count": null,
   "metadata": {},
   "outputs": [],
   "source": [
    "sim = SpinodalNonConserved(n=100, nstep=200, d=0.5, AA=1.3)\n",
    "sim.animate()"
   ]
  },
  {
   "cell_type": "code",
   "execution_count": null,
   "metadata": {},
   "outputs": [],
   "source": [
    "sim = SpinodalConserved(n=100, nstep=200, d=0.5, AA=1.3)\n",
    "sim.animate()\n"
   ]
  },
  {
   "cell_type": "markdown",
   "metadata": {},
   "source": [
    "## Compare and contrast the non-conserved with the conserved updater. What do you notice about the pattern of phase separation (aka microstructure)? What do you notice about the evolution of the microstructure with time? Compare your observations with your neighbors. "
   ]
  },
  {
   "cell_type": "code",
   "execution_count": null,
   "metadata": {},
   "outputs": [],
   "source": [
    "# Run this if previous HTML is not working, or if you want to run with greater steps or grid size\n",
    "\n",
    "import time\n",
    "from IPython.display import clear_output\n",
    "import matplotlib.pyplot as plt\n",
    "\n",
    "def animate_live(sim, delay=0.1, steps=100):\n",
    "    for step in range(steps):\n",
    "        sim.step()\n",
    "        clear_output(wait=True)\n",
    "\n",
    "        fig, ax = plt.subplots(figsize=(5, 5), facecolor='#FAFAFA')  # Match Colab bg\n",
    "        ax.set_facecolor('#FAFAFA')\n",
    "        im = ax.imshow(sim.eta, cmap='bwr', vmin=-1, vmax=1, interpolation='none')\n",
    "        plt.colorbar(im, ax=ax, label='η (concentration)')\n",
    "        ax.set_title(f\"{sim.title}\")\n",
    "        ax.axis('off')\n",
    "\n",
    "        plt.show()\n",
    "        time.sleep(delay)\n",
    "# Run this if previous HTML is not working, or if you want to run with greater steps or grid size\n",
    "sim = SpinodalConserved(n=100, nstep=300, d=0.5, AA=1.3)\n",
    "# sim = SpinodalNonConserved(n=100, nstep=300, d=0.5, AA=1.3) # Uncomment this and comment SpinodalConserved if you want to run NonConserved\n",
    "animate_live(sim, delay=0.05, steps=100)\n"
   ]
  },
  {
   "cell_type": "markdown",
   "metadata": {},
   "source": [
    "## **Exercise**: So far, the initial concentration profile consisted of small random and symmetric perturbations around concetation parity (η ~ 0). Let's see what happens when we start with different concentration profiles. \n",
    "\n",
    "### Change the initial concentration profile from random to one of the other options. What the code snippet below does is it redefine the initial condition by overriding \"self.eta.\" You can also implement this by directly editing the spinodal_decomp.py file yourself."
   ]
  },
  {
   "cell_type": "code",
   "execution_count": null,
   "metadata": {},
   "outputs": [],
   "source": [
    "import numpy as np\n",
    "from spinodal_decomp import SpinodalNonConserved, SpinodalConserved\n",
    "\n",
    "# Choose model type and initial condition\n",
    "model_type = \"conserved\"     # \"conserved\" or \"nonconserved\"\n",
    "initial_profile = \"random\"  # \"random\", \"off_center\", \"center_seed\"\n",
    "\n",
    "# Create the simulation object\n",
    "n = 100\n",
    "if model_type == \"conserved\":\n",
    "    sim = SpinodalConserved(n=n, nstep=300, d=0.5, AA=1.3)\n",
    "elif model_type == \"nonconserved\":\n",
    "    sim = SpinodalNonConserved(n=n, nstep=300, d=0.5, AA=1.3)\n",
    "else:\n",
    "    raise ValueError(\"Unknown model type\")\n",
    "\n",
    "# Override sim.eta based on the selected profile\n",
    "if initial_profile == \"random\":\n",
    "    sim.eta = 0.1 * (2 * np.random.rand(n, n) - 1)\n",
    "\n",
    "elif initial_profile == \"off_center\":\n",
    "    sim.eta = 0.1 * (2 * np.random.rand(n, n) - 4)\n",
    "\n",
    "elif initial_profile == \"center_seed\":\n",
    "    sim.eta = 0.001 * (2 * np.random.rand(n, n) - 1)\n",
    "    mid = n // 2\n",
    "    sim.eta[mid, mid] = 1.0\n",
    "\n",
    "else:\n",
    "    raise ValueError(\"Unknown initial profile\")\n",
    "\n",
    "# Plot the initial condition\n",
    "sim.plot()\n",
    "\n",
    "# Evolve the system\n",
    "for _ in range(50):\n",
    "    sim.step()\n",
    "\n",
    "# Plot the evolved state\n",
    "sim.plot()\n",
    "\n",
    "# Optional:\n",
    "#html = sim.animate()\n",
    "#html\n",
    "\n",
    "# Or:\n",
    "#animate_live(sim, delay=0.05, steps=100)"
   ]
  },
  {
   "cell_type": "markdown",
   "metadata": {},
   "source": [
    "## Bonus: Varying Diffusivity (D)\n",
    "### So far, we've been using a fixed value of diffusivity D (i.e., d=0.5). Let's now explore how changin D affects the evolution of the microstructure. In the code below, try different values of d (such as 0.1, o.5, and 1.0). Run the cell and observe how quickly and how sharply the phase separation occurs"
   ]
  },
  {
   "cell_type": "code",
   "execution_count": null,
   "metadata": {},
   "outputs": [],
   "source": [
    "from spinodal_decomp import SpinodalNonConserved, SpinodalConserved\n",
    "\n",
    "# Try changing 'd' below\n",
    "d_value = 0.5  \n",
    "\n",
    "sim = SpinodalConserved(n=100, nstep=300, d=d_value, AA=1.3)\n",
    "\n",
    "# Evolve a few steps\n",
    "for _ in range(50):\n",
    "    sim.step()\n",
    "\n",
    "# Plot a still snapshot\n",
    "sim.plot()\n",
    "\n",
    "# Or uncomment the lines below to animate the full evolution\n",
    "#html = sim.animate()\n",
    "#html\n",
    "\n",
    "# Or use this if HTML is too slow (real-time animation in notebook)\n",
    "#animate_live(sim, delay=0.001, steps=100)\n"
   ]
  }
 ],
 "metadata": {
  "colab": {
   "provenance": []
  },
  "kernelspec": {
   "display_name": "Python 3 (ipykernel)",
   "language": "python",
   "name": "python3"
  },
  "language_info": {
   "codemirror_mode": {
    "name": "ipython",
    "version": 3
   },
   "file_extension": ".py",
   "mimetype": "text/x-python",
   "name": "python",
   "nbconvert_exporter": "python",
   "pygments_lexer": "ipython3",
   "version": "3.10.12"
  }
 },
 "nbformat": 4,
 "nbformat_minor": 4
}
